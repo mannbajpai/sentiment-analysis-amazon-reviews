{
 "cells": [
  {
   "cell_type": "markdown",
   "metadata": {},
   "source": [
    "### Import Dependencies"
   ]
  },
  {
   "cell_type": "code",
   "execution_count": 1,
   "metadata": {},
   "outputs": [],
   "source": [
    "from transformers import AutoTokenizer, AutoModelForSequenceClassification\n",
    "import torch\n",
    "import requests\n",
    "from bs4 import BeautifulSoup\n",
    "import re"
   ]
  },
  {
   "cell_type": "markdown",
   "metadata": {},
   "source": [
    "### Instantiate Model"
   ]
  },
  {
   "cell_type": "code",
   "execution_count": 2,
   "metadata": {},
   "outputs": [
    {
     "data": {
      "application/vnd.jupyter.widget-view+json": {
       "model_id": "5ddd23749cd84494b8b097a602cb3446",
       "version_major": 2,
       "version_minor": 0
      },
      "text/plain": [
       "Downloading tokenizer_config.json:   0%|          | 0.00/39.0 [00:00<?, ?B/s]"
      ]
     },
     "metadata": {},
     "output_type": "display_data"
    },
    {
     "data": {
      "application/vnd.jupyter.widget-view+json": {
       "model_id": "6eb82284a22d4131a624318016edfee0",
       "version_major": 2,
       "version_minor": 0
      },
      "text/plain": [
       "Downloading config.json:   0%|          | 0.00/953 [00:00<?, ?B/s]"
      ]
     },
     "metadata": {},
     "output_type": "display_data"
    },
    {
     "data": {
      "application/vnd.jupyter.widget-view+json": {
       "model_id": "a59f5219417349f683a0dab728381993",
       "version_major": 2,
       "version_minor": 0
      },
      "text/plain": [
       "Downloading vocab.txt:   0%|          | 0.00/872k [00:00<?, ?B/s]"
      ]
     },
     "metadata": {},
     "output_type": "display_data"
    },
    {
     "data": {
      "application/vnd.jupyter.widget-view+json": {
       "model_id": "69396945933b4497ae69df6205160ae1",
       "version_major": 2,
       "version_minor": 0
      },
      "text/plain": [
       "Downloading (…)cial_tokens_map.json:   0%|          | 0.00/112 [00:00<?, ?B/s]"
      ]
     },
     "metadata": {},
     "output_type": "display_data"
    },
    {
     "name": "stdout",
     "output_type": "stream",
     "text": [
      "WARNING:tensorflow:From c:\\Users\\Lenovo\\anaconda3\\lib\\site-packages\\keras\\src\\losses.py:2976: The name tf.losses.sparse_softmax_cross_entropy is deprecated. Please use tf.compat.v1.losses.sparse_softmax_cross_entropy instead.\n",
      "\n"
     ]
    },
    {
     "data": {
      "application/vnd.jupyter.widget-view+json": {
       "model_id": "109129ceab8c40f6ae0c9bb6d4609be5",
       "version_major": 2,
       "version_minor": 0
      },
      "text/plain": [
       "Downloading pytorch_model.bin:   0%|          | 0.00/669M [00:00<?, ?B/s]"
      ]
     },
     "metadata": {},
     "output_type": "display_data"
    }
   ],
   "source": [
    "tokenizer = AutoTokenizer.from_pretrained('nlptown/bert-base-multilingual-uncased-sentiment')\n",
    "\n",
    "model = AutoModelForSequenceClassification.from_pretrained('nlptown/bert-base-multilingual-uncased-sentiment')"
   ]
  },
  {
   "cell_type": "markdown",
   "metadata": {},
   "source": [
    "### Encode and Calculate Sentiment"
   ]
  },
  {
   "cell_type": "code",
   "execution_count": 7,
   "metadata": {},
   "outputs": [],
   "source": [
    "tokens  = tokenizer.encode(\"I enjoy studying Machine Learning as it is quite intriguing\", return_tensors='pt')\n",
    "result = model(tokens)"
   ]
  },
  {
   "cell_type": "code",
   "execution_count": 8,
   "metadata": {},
   "outputs": [
    {
     "data": {
      "text/plain": [
       "4"
      ]
     },
     "execution_count": 8,
     "metadata": {},
     "output_type": "execute_result"
    }
   ],
   "source": [
    "int(torch.argmax(result.logits))+1"
   ]
  },
  {
   "cell_type": "markdown",
   "metadata": {},
   "source": [
    "### Collect Reviews"
   ]
  },
  {
   "cell_type": "code",
   "execution_count": 26,
   "metadata": {},
   "outputs": [],
   "source": [
    "r = requests.get('https://www.yelp.com/biz/star-india-restaurant-san-francisco-2')\n",
    "soup = BeautifulSoup(r.text, 'html.parser')\n",
    "regex = re.compile('.*comment.*')\n",
    "results = soup.find_all('p', {'class':regex})\n",
    "reviews = [result.text for result in results]"
   ]
  },
  {
   "cell_type": "code",
   "execution_count": 27,
   "metadata": {},
   "outputs": [
    {
     "data": {
      "text/plain": [
       "['Food: 10/10 has all the traditional options including vegetarian options! chicken tikka masala is a must. also have drinks like chai & manService: 10/10 super friendly, nice lady let us walk in and check out the buffet (offered from 11am-4pm weekends and weekdays) when deciding where to eat. also ordered us naan for the tableAmbiance: 10/10 nice Indian music playing in the background, decor is inviting',\n",
       " \"Food was super yummy and authentic!  Service was incredible! The waitress is super nice!! Chai was a must have!! ambiance, so pretty and I feel like I'm at home!! (::\",\n",
       " 'Good and comfort Indian food, young lady is very attentive, wonderful customer service! Cozy ambiance!',\n",
       " 'More of a 4.5, but that\\'s still pretty good! I ended up coming to Star India after watching enough Ted Lasso to want to find something even remotely good as the Indian food in London. Initially, I had been seeking another spot for their Butter Chicken, but was utterly disappointed when the other place I had intentionally driven to was \"closed\" due to there being issues in the kitchen. First thought in my mind was, \"I am f****** tired, and it seems like so many things are not working out this month!?\" Decided to try to be flexible and do what is contrary to my nature: be spontaneous (lol). And I was reminded that the alternative, open door has an advantage that you might not have considered: a lot of delicious Indian food options in the form of an affordable buffet. A lot of places charge $16+ for just Butter Chicken, but I hit the jackpot when I found this place. Not only did they have perfectly seasoned butter chicken with a generous amount of tender chicken, but they had other favorites like Palak Paneer and Tandoori Chicken (all-you-can-eat for $21.95). My other personal favorite was the Dal Soup! Wowza. The service was fine, and the place itself is pretty spacious. I wasn\\'t impressed with the ambiance, but at least they are organized and clean. If you\\'re the type who likes variety and are looking for a great deal, I would check out Star India!',\n",
       " \"We came in around 8pm on Friday and to our surprise it was completely empty and stayed empty during our meal until we left. We ordered veggies, lamb naan, butter chicken and meat samosas. -veggies where lighted breaded and tasted great with the sauces they had. They were not oily and were filling. -meat samosas were on the oily side and didn't really have any taste. Just a ball of unseasoned meat. -butter chicken didn't really taste like butter chicken. It had a very strong coconut taste and the portion size for the price was a bit disappointing. -the naan was great! Aside from the meat not adding much to the flavor the naan itself was very tasty! Warm and crunchy on the edges. Service was excellent, it could had been because the restaurant was completely empty but we never had to ask for more water and the food came out very fast so we absolutely loved that. The restaurant was also very cute. It has some awesome paintings on the walls.\",\n",
       " \"I'm surprised that this place exists in SF downtown area despite so many famous Indian restaurants around it. What's good: Veggie pakoda and bread. What's bad: everything elseChicken kabobs had no flavor in them and only spice was through the chutney served alongside which was also cold. Veggie tikka masala was more like a vegetable stew with no spice or heat at all. Their signature dish is Chicken tikka masala and it was so bland that it felt like just tomato sauce. Biryani was just rice soaked in chilli paste. Absolutely the worst Indian place in Bay Area!\",\n",
       " \"Star India is the OG buffet of the 90's... I remember stuffing my belly for under $10 even just 10 years ago and then the pandemic shut the buffet down. Well here we are 2023 and their buffet is now $22!! Featured:Tandoori chicken -- little drySaag paneer -- classicLamb -- absolute highlight Vegetable curry -- good blend Tiki masala chicken -- basic and dryDaal -- didn't try but looks standard and they had some other type of veggie curry that I didn't tryChai tea -- I like that you can have it unsweetened They bring basic of naan to your table. Service was pretty attentive. We came around 1:30 on a Saturday and the restaurant was pretty empty. There's metered parking in front or you can look around for residential parking that's not too far away. $22pp is pretty expensive for what you get but if nothing else, you can get your money's worth just by eating two plates of lamb curry like I did!! They also offer free mango ice cream for checking in -- but it's not included with the buffet... ;-(\",\n",
       " 'While the food is tasty ... the price vs portion size is the key factor why I would not say..... yes you have to go. The biryani is sufficient in size but all other meals  are small. I hear the buffet is popular but that shuts down at 4 pm if I am not mistaken. I hope they can a few more waiters ... that would help with the service. If you go please let me know what you think. Cheers and happy exploring.',\n",
       " \"This is a really nice India resturant. Great customer service and delicious food. Great atmosphere and very clean. If you're looking for delicious India Food, this is a really nice place to visit.\",\n",
       " \"I recently spent the day in the city with my Mom and Dad, due to one of them forgetting an important item, we asked my niece to bring the item and join us for dinner. We were going to be spending the night and we were starving after a long day running errands. It was time to find something to eat and knowing that my Mom and Niece are fairly adventurous (more than I am), I suggested Indian food. My Niece's boyfriend was joining us and he is less adventurous than any of us. But we made it our mission to get him to try the food in front of him. Boyfriend is usually agreeable when trying things he is unfamiliar with. The previous week I had talked my Mom and Dad into trying an Indian Fusion Restaurant in Sausalito, which my Mom found absolutely amazing. Dad opted out of this dinner excursion. We chose Star India by the location closest to the Inn we were staying at as well as the reviews. We ordered butter chicken, saag paneer, rice, garlic naan, aloo gobi and Boyfriend chose his own item which was tikka masala chicken. Boyfriend did a good job on his plate and brought his leftovers home to share with his sister, who loves Indian food. Overall, the service was a tad slow and there was not a lot of traffic in this location, but the food was good. The building was a little older and the staff was having a hard time communicating with us when we asked questions about the food.  I'm all about trying new dinner spots out. This one did the job, but we may move on to the next one for comparison.\"]"
      ]
     },
     "execution_count": 27,
     "metadata": {},
     "output_type": "execute_result"
    }
   ],
   "source": [
    "reviews"
   ]
  },
  {
   "cell_type": "markdown",
   "metadata": {},
   "source": [
    "### Load Reviews into DataFrame and Score"
   ]
  },
  {
   "cell_type": "code",
   "execution_count": 28,
   "metadata": {},
   "outputs": [],
   "source": [
    "import numpy as np\n",
    "import pandas as pd"
   ]
  },
  {
   "cell_type": "code",
   "execution_count": 29,
   "metadata": {},
   "outputs": [],
   "source": [
    "df = pd.DataFrame(np.array(reviews), columns=['review'])"
   ]
  },
  {
   "cell_type": "code",
   "execution_count": 30,
   "metadata": {},
   "outputs": [
    {
     "data": {
      "text/html": [
       "<div>\n",
       "<style scoped>\n",
       "    .dataframe tbody tr th:only-of-type {\n",
       "        vertical-align: middle;\n",
       "    }\n",
       "\n",
       "    .dataframe tbody tr th {\n",
       "        vertical-align: top;\n",
       "    }\n",
       "\n",
       "    .dataframe thead th {\n",
       "        text-align: right;\n",
       "    }\n",
       "</style>\n",
       "<table border=\"1\" class=\"dataframe\">\n",
       "  <thead>\n",
       "    <tr style=\"text-align: right;\">\n",
       "      <th></th>\n",
       "      <th>review</th>\n",
       "    </tr>\n",
       "  </thead>\n",
       "  <tbody>\n",
       "    <tr>\n",
       "      <th>0</th>\n",
       "      <td>Food: 10/10 has all the traditional options in...</td>\n",
       "    </tr>\n",
       "    <tr>\n",
       "      <th>1</th>\n",
       "      <td>Food was super yummy and authentic!  Service w...</td>\n",
       "    </tr>\n",
       "    <tr>\n",
       "      <th>2</th>\n",
       "      <td>Good and comfort Indian food, young lady is ve...</td>\n",
       "    </tr>\n",
       "    <tr>\n",
       "      <th>3</th>\n",
       "      <td>More of a 4.5, but that's still pretty good! I...</td>\n",
       "    </tr>\n",
       "    <tr>\n",
       "      <th>4</th>\n",
       "      <td>We came in around 8pm on Friday and to our sur...</td>\n",
       "    </tr>\n",
       "  </tbody>\n",
       "</table>\n",
       "</div>"
      ],
      "text/plain": [
       "                                              review\n",
       "0  Food: 10/10 has all the traditional options in...\n",
       "1  Food was super yummy and authentic!  Service w...\n",
       "2  Good and comfort Indian food, young lady is ve...\n",
       "3  More of a 4.5, but that's still pretty good! I...\n",
       "4  We came in around 8pm on Friday and to our sur..."
      ]
     },
     "execution_count": 30,
     "metadata": {},
     "output_type": "execute_result"
    }
   ],
   "source": [
    "df.head()"
   ]
  },
  {
   "cell_type": "code",
   "execution_count": 31,
   "metadata": {},
   "outputs": [],
   "source": [
    "example = df['review'].iloc[0]"
   ]
  },
  {
   "cell_type": "code",
   "execution_count": 32,
   "metadata": {},
   "outputs": [],
   "source": [
    "def sentiment_score(review):\n",
    "    tokens = tokenizer.encode(review, return_tensors='pt')\n",
    "    result = model(tokens)\n",
    "    return int(torch.argmax(result.logits))+1"
   ]
  },
  {
   "cell_type": "code",
   "execution_count": 33,
   "metadata": {},
   "outputs": [
    {
     "data": {
      "text/plain": [
       "5"
      ]
     },
     "execution_count": 33,
     "metadata": {},
     "output_type": "execute_result"
    }
   ],
   "source": [
    "sentiment_score(example)"
   ]
  },
  {
   "cell_type": "code",
   "execution_count": 34,
   "metadata": {},
   "outputs": [],
   "source": [
    "df['sentiment'] = df['review'].apply(lambda x: sentiment_score(x[:512]))"
   ]
  },
  {
   "cell_type": "code",
   "execution_count": 35,
   "metadata": {},
   "outputs": [
    {
     "data": {
      "text/html": [
       "<div>\n",
       "<style scoped>\n",
       "    .dataframe tbody tr th:only-of-type {\n",
       "        vertical-align: middle;\n",
       "    }\n",
       "\n",
       "    .dataframe tbody tr th {\n",
       "        vertical-align: top;\n",
       "    }\n",
       "\n",
       "    .dataframe thead th {\n",
       "        text-align: right;\n",
       "    }\n",
       "</style>\n",
       "<table border=\"1\" class=\"dataframe\">\n",
       "  <thead>\n",
       "    <tr style=\"text-align: right;\">\n",
       "      <th></th>\n",
       "      <th>review</th>\n",
       "      <th>sentiment</th>\n",
       "    </tr>\n",
       "  </thead>\n",
       "  <tbody>\n",
       "    <tr>\n",
       "      <th>0</th>\n",
       "      <td>Food: 10/10 has all the traditional options in...</td>\n",
       "      <td>5</td>\n",
       "    </tr>\n",
       "    <tr>\n",
       "      <th>1</th>\n",
       "      <td>Food was super yummy and authentic!  Service w...</td>\n",
       "      <td>5</td>\n",
       "    </tr>\n",
       "    <tr>\n",
       "      <th>2</th>\n",
       "      <td>Good and comfort Indian food, young lady is ve...</td>\n",
       "      <td>5</td>\n",
       "    </tr>\n",
       "    <tr>\n",
       "      <th>3</th>\n",
       "      <td>More of a 4.5, but that's still pretty good! I...</td>\n",
       "      <td>4</td>\n",
       "    </tr>\n",
       "    <tr>\n",
       "      <th>4</th>\n",
       "      <td>We came in around 8pm on Friday and to our sur...</td>\n",
       "      <td>1</td>\n",
       "    </tr>\n",
       "    <tr>\n",
       "      <th>5</th>\n",
       "      <td>I'm surprised that this place exists in SF dow...</td>\n",
       "      <td>3</td>\n",
       "    </tr>\n",
       "    <tr>\n",
       "      <th>6</th>\n",
       "      <td>Star India is the OG buffet of the 90's... I r...</td>\n",
       "      <td>5</td>\n",
       "    </tr>\n",
       "    <tr>\n",
       "      <th>7</th>\n",
       "      <td>While the food is tasty ... the price vs porti...</td>\n",
       "      <td>3</td>\n",
       "    </tr>\n",
       "    <tr>\n",
       "      <th>8</th>\n",
       "      <td>This is a really nice India resturant. Great c...</td>\n",
       "      <td>5</td>\n",
       "    </tr>\n",
       "    <tr>\n",
       "      <th>9</th>\n",
       "      <td>I recently spent the day in the city with my M...</td>\n",
       "      <td>4</td>\n",
       "    </tr>\n",
       "  </tbody>\n",
       "</table>\n",
       "</div>"
      ],
      "text/plain": [
       "                                              review  sentiment\n",
       "0  Food: 10/10 has all the traditional options in...          5\n",
       "1  Food was super yummy and authentic!  Service w...          5\n",
       "2  Good and comfort Indian food, young lady is ve...          5\n",
       "3  More of a 4.5, but that's still pretty good! I...          4\n",
       "4  We came in around 8pm on Friday and to our sur...          1\n",
       "5  I'm surprised that this place exists in SF dow...          3\n",
       "6  Star India is the OG buffet of the 90's... I r...          5\n",
       "7  While the food is tasty ... the price vs porti...          3\n",
       "8  This is a really nice India resturant. Great c...          5\n",
       "9  I recently spent the day in the city with my M...          4"
      ]
     },
     "execution_count": 35,
     "metadata": {},
     "output_type": "execute_result"
    }
   ],
   "source": [
    "df"
   ]
  },
  {
   "cell_type": "code",
   "execution_count": null,
   "metadata": {},
   "outputs": [],
   "source": []
  }
 ],
 "metadata": {
  "kernelspec": {
   "display_name": "base",
   "language": "python",
   "name": "python3"
  },
  "language_info": {
   "codemirror_mode": {
    "name": "ipython",
    "version": 3
   },
   "file_extension": ".py",
   "mimetype": "text/x-python",
   "name": "python",
   "nbconvert_exporter": "python",
   "pygments_lexer": "ipython3",
   "version": "3.9.13"
  }
 },
 "nbformat": 4,
 "nbformat_minor": 2
}
